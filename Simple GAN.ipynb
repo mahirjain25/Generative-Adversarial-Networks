{
 "cells": [
  {
   "cell_type": "markdown",
   "metadata": {},
   "source": [
    "# Implementation of a simple GAN using a 2 layered neural net."
   ]
  },
  {
   "cell_type": "code",
   "execution_count": 37,
   "metadata": {},
   "outputs": [
    {
     "name": "stdout",
     "output_type": "stream",
     "text": [
      "Extracting MNIST_data/train-images-idx3-ubyte.gz\n",
      "Extracting MNIST_data/train-labels-idx1-ubyte.gz\n",
      "Extracting MNIST_data/t10k-images-idx3-ubyte.gz\n",
      "Extracting MNIST_data/t10k-labels-idx1-ubyte.gz\n"
     ]
    }
   ],
   "source": [
    "# Importing TensorFlow\n",
    "\n",
    "import tensorflow as tf\n",
    "import numpy as np\n",
    "from tensorflow.examples.tutorials.mnist import *\n",
    "import matplotlib.pyplot as plt\n",
    "import matplotlib.gridspec as gridspec\n",
    "import os\n",
    "mnist = input_data.read_data_sets(\"MNIST_data/\", one_hot=True)"
   ]
  },
  {
   "cell_type": "code",
   "execution_count": 47,
   "metadata": {
    "collapsed": true
   },
   "outputs": [],
   "source": [
    "# Hyperparameters\n",
    "\n",
    "batch = 32\n",
    "X_dim = 784\n",
    "Z_dim = 64\n",
    "h_dim = 128\n",
    "alpha = 0.001"
   ]
  },
  {
   "cell_type": "code",
   "execution_count": 48,
   "metadata": {},
   "outputs": [],
   "source": [
    "def plot(samples):\n",
    "    fig = plt.figure(figsize=(4,4))\n",
    "    gs = gridspec.GridSpec(4, 4)\n",
    "    gs.update(wspace=0.05, hspace=0.05)\n",
    "    for i, sample in enumerate(samples):\n",
    "        ax = plt.subplot(gs[i])\n",
    "        plt.axis('off')\n",
    "        ax.set_xticklabels([])\n",
    "        ax.set_yticklabels([])\n",
    "        ax.set_aspect('equal')\n",
    "        plt.imshow(sample.reshape(28, 28), cmap='Greys_r')\n",
    "\n",
    "    return fig\n",
    "    "
   ]
  },
  {
   "cell_type": "code",
   "execution_count": 49,
   "metadata": {
    "collapsed": true
   },
   "outputs": [],
   "source": [
    "# Function to initialise weight matrix of a given shape\n",
    "def weight_initialise(shape):\n",
    "    value = tf.truncated_normal(shape,stddev=0.1)\n",
    "    return tf.Variable(value)\n",
    "\n"
   ]
  },
  {
   "cell_type": "code",
   "execution_count": 50,
   "metadata": {},
   "outputs": [],
   "source": [
    "# Defining variables for the Discriminator net.\n",
    "\n",
    "X = tf.placeholder(tf.float32, shape = [None,X_dim])\n",
    "\n",
    "#Layer 1\n",
    "D_Weights1 = weight_initialise([X_dim,h_dim])\n",
    "D_Bias1 = tf.Variable(tf.zeros(shape=[h_dim]))\n",
    "\n",
    "#Layer 2\n",
    "D_Weights2 = weight_initialise([h_dim,1])\n",
    "D_Bias2 = tf.Variable(tf.zeros(shape=[1]))\n",
    "\n",
    "\n",
    "theta_D = [D_Weights1, D_Weights2, D_Bias1, D_Bias2]"
   ]
  },
  {
   "cell_type": "code",
   "execution_count": 51,
   "metadata": {
    "collapsed": true
   },
   "outputs": [],
   "source": [
    "# Similarly, for the Generator...\n",
    "\n",
    "z = tf.placeholder(tf.float32,shape=[None,Z_dim])\n",
    "\n",
    "#Layer 1\n",
    "G_Weights1 = weight_initialise([Z_dim,h_dim])\n",
    "G_Bias1 = tf.Variable(tf.zeros(shape=[h_dim]))\n",
    "\n",
    "#Layer 2\n",
    "G_Weights2 = weight_initialise([h_dim,X_dim])\n",
    "G_Bias2 = tf.Variable(tf.zeros(shape=[X_dim]))\n",
    "\n",
    "\n",
    "theta_G = [D_Weights1, D_Weights2, D_Bias1, D_Bias2]"
   ]
  },
  {
   "cell_type": "code",
   "execution_count": 52,
   "metadata": {
    "collapsed": true
   },
   "outputs": [],
   "source": [
    "# Defining the generator function\n",
    "\n",
    "def generator(z):\n",
    "    G_Activation1 = tf.nn.relu(tf.matmul(z,G_Weights1)+G_Bias1)\n",
    "    G_Activation2 = tf.matmul(G_Activation1,G_Weights2) + G_Bias2\n",
    "    generated = tf.nn.sigmoid(G_Activation2)\n",
    "    return generated\n",
    "\n",
    "\n",
    "# Defining the discriminator\n",
    "\n",
    "def discriminator(x):\n",
    "    D_Activation1 = tf.nn.relu(tf.matmul(x,D_Weights1)+D_Bias1)\n",
    "    D_Activation2 = tf.matmul(D_Activation1,D_Weights2) + D_Bias2\n",
    "    return D_Activation2\n",
    "    "
   ]
  },
  {
   "cell_type": "code",
   "execution_count": 53,
   "metadata": {
    "collapsed": true
   },
   "outputs": [],
   "source": [
    "# Function to create initial z samples that are fed to generator\n",
    "\n",
    "def sample_z(m,n):\n",
    "    return np.random.uniform(-1., 1., size=[m, n])"
   ]
  },
  {
   "cell_type": "code",
   "execution_count": 54,
   "metadata": {},
   "outputs": [],
   "source": [
    "G_sample = generator(z)\n",
    "\n",
    "D_Real  = discriminator(X)\n",
    "\n",
    "D_Fake  = discriminator(G_sample)\n",
    "\n",
    "D_Target = 1./ batch\n",
    "\n",
    "G_Target = 1./ (batch*2)\n",
    "\n",
    "Z = tf.reduce_sum(tf.exp(-D_Real)) + tf.reduce_sum(tf.exp(-D_Fake))\n",
    "\n",
    "D_loss = tf.reduce_sum(D_Target * D_Real) + tf.log(Z + 0.000000001)\n",
    "G_loss = tf.reduce_sum(G_Target * D_Real) + tf.reduce_sum(G_Target * D_Fake) + tf.log(Z + 0.000000001)\n",
    "\n",
    "D_solver = (tf.train.AdamOptimizer(learning_rate=alpha)\n",
    "            .minimize(D_loss, var_list=theta_D))\n",
    "G_solver = (tf.train.AdamOptimizer(learning_rate=alpha)\n",
    "            .minimize(G_loss, var_list=theta_G))\n",
    "\n",
    "sess = tf.Session()\n",
    "sess.run(tf.global_variables_initializer())\n"
   ]
  },
  {
   "cell_type": "code",
   "execution_count": null,
   "metadata": {},
   "outputs": [
    {
     "name": "stdout",
     "output_type": "stream",
     "text": [
      "Iter: 0; D_loss: 4.313; G_loss: 4.362\n",
      "Iter: 1000; D_loss: 4.289; G_loss: 4.342\n",
      "Iter: 2000; D_loss: 4.567; G_loss: 4.519\n",
      "Iter: 3000; D_loss: 4.881; G_loss: 4.656\n",
      "Iter: 4000; D_loss: 4.935; G_loss: 4.782\n",
      "Iter: 5000; D_loss: 4.613; G_loss: 4.458\n",
      "Iter: 6000; D_loss: 4.502; G_loss: 4.484\n",
      "Iter: 7000; D_loss: 4.417; G_loss: 4.426\n",
      "Iter: 8000; D_loss: 4.331; G_loss: 4.418\n",
      "Iter: 9000; D_loss: 4.446; G_loss: 4.354\n",
      "Iter: 10000; D_loss: 4.227; G_loss: 4.379\n",
      "Iter: 11000; D_loss: 4.189; G_loss: 4.363\n",
      "Iter: 12000; D_loss: 4.246; G_loss: 4.326\n",
      "Iter: 13000; D_loss: 4.125; G_loss: 4.339\n",
      "Iter: 14000; D_loss: 4.126; G_loss: 4.365\n",
      "Iter: 15000; D_loss: 4.225; G_loss: 4.389\n",
      "Iter: 16000; D_loss: 4.185; G_loss: 4.359\n",
      "Iter: 17000; D_loss: 4.238; G_loss: 4.409\n",
      "Iter: 18000; D_loss: 4.301; G_loss: 4.408\n",
      "Iter: 19000; D_loss: 4.337; G_loss: 4.464\n",
      "Iter: 20000; D_loss: 4.418; G_loss: 4.531\n",
      "Iter: 21000; D_loss: 4.573; G_loss: 4.607\n",
      "Iter: 22000; D_loss: 4.604; G_loss: 4.572\n",
      "Iter: 23000; D_loss: 4.679; G_loss: 4.64\n",
      "Iter: 24000; D_loss: 4.673; G_loss: 4.714\n",
      "Iter: 25000; D_loss: 4.731; G_loss: 4.638\n",
      "Iter: 26000; D_loss: 4.77; G_loss: 4.66\n",
      "Iter: 27000; D_loss: 4.79; G_loss: 4.73\n",
      "Iter: 28000; D_loss: 4.789; G_loss: 4.972\n",
      "Iter: 29000; D_loss: 4.849; G_loss: 4.867\n",
      "Iter: 30000; D_loss: 5.001; G_loss: 4.975\n",
      "Iter: 31000; D_loss: 5.118; G_loss: 4.847\n",
      "Iter: 32000; D_loss: 5.041; G_loss: 5.013\n",
      "Iter: 33000; D_loss: 5.372; G_loss: 4.915\n",
      "Iter: 34000; D_loss: 5.019; G_loss: 5.266\n",
      "Iter: 35000; D_loss: 5.558; G_loss: 5.509\n",
      "Iter: 36000; D_loss: 5.291; G_loss: 5.651\n",
      "Iter: 37000; D_loss: 5.585; G_loss: 5.801\n",
      "Iter: 38000; D_loss: 5.872; G_loss: 5.784\n",
      "Iter: 39000; D_loss: 7.617; G_loss: 7.47\n",
      "Iter: 40000; D_loss: 13.47; G_loss: 7.684\n",
      "Iter: 41000; D_loss: 15.93; G_loss: 13.66\n",
      "Iter: 42000; D_loss: 15.65; G_loss: 14.2\n",
      "Iter: 43000; D_loss: 29.75; G_loss: 13.84\n",
      "Iter: 44000; D_loss: 26.52; G_loss: 13.68\n",
      "Iter: 45000; D_loss: 30.93; G_loss: 13.91\n",
      "Iter: 46000; D_loss: 31.72; G_loss: 22.74\n",
      "Iter: 47000; D_loss: 26.17; G_loss: 19.29\n",
      "Iter: 48000; D_loss: 44.6; G_loss: 25.24\n",
      "Iter: 49000; D_loss: nan; G_loss: nan\n"
     ]
    }
   ],
   "source": [
    "# Training\n",
    "if not os.path.exists('out/'):\n",
    "    os.makedirs('out/')\n",
    "i = 0\n",
    "for it in range(1000000):\n",
    "    X_mb, _ = mnist.train.next_batch(batch)\n",
    "    z_mb = sample_z(batch, Z_dim)\n",
    "\n",
    "    _, D_loss_curr = sess.run(\n",
    "        [D_solver, D_loss], feed_dict={X: X_mb, z: z_mb}\n",
    "    )\n",
    "\n",
    "    _, G_loss_curr = sess.run(\n",
    "        [G_solver, G_loss], feed_dict={X: X_mb, z: z_mb}\n",
    "    )\n",
    "\n",
    "    if it % 1000 == 0:\n",
    "        print('Iter: {}; D_loss: {:.4}; G_loss: {:.4}'\n",
    "              .format(it, D_loss_curr, G_loss_curr))\n",
    "    if it % 100000 == 0:\n",
    "        samples = sess.run(G_sample,feed_dict={z: sample_z(16, Z_dim)})\n",
    "        \n",
    "        fig = plot(samples)\n",
    "        plt.savefig('out/{}.png'.format(str(i).zfill(3)),bbox_inches='tight')\n",
    "        i+=1\n",
    "        plt.close(fig)"
   ]
  },
  {
   "cell_type": "code",
   "execution_count": null,
   "metadata": {
    "collapsed": true
   },
   "outputs": [],
   "source": []
  },
  {
   "cell_type": "code",
   "execution_count": null,
   "metadata": {
    "collapsed": true
   },
   "outputs": [],
   "source": []
  }
 ],
 "metadata": {
  "kernelspec": {
   "display_name": "Python 3",
   "language": "python",
   "name": "python3"
  },
  "language_info": {
   "codemirror_mode": {
    "name": "ipython",
    "version": 3
   },
   "file_extension": ".py",
   "mimetype": "text/x-python",
   "name": "python",
   "nbconvert_exporter": "python",
   "pygments_lexer": "ipython3",
   "version": "3.6.3"
  }
 },
 "nbformat": 4,
 "nbformat_minor": 2
}
