{
 "cells": [
  {
   "cell_type": "markdown",
   "metadata": {},
   "source": [
    "# Implementation of a simple GAN using a 2 layered neural net."
   ]
  },
  {
   "cell_type": "code",
   "execution_count": 52,
   "metadata": {},
   "outputs": [
    {
     "name": "stdout",
     "output_type": "stream",
     "text": [
      "Extracting MNIST_data/train-images-idx3-ubyte.gz\n",
      "Extracting MNIST_data/train-labels-idx1-ubyte.gz\n",
      "Extracting MNIST_data/t10k-images-idx3-ubyte.gz\n",
      "Extracting MNIST_data/t10k-labels-idx1-ubyte.gz\n"
     ]
    }
   ],
   "source": [
    "# Importing TensorFlow\n",
    "\n",
    "import tensorflow as tf\n",
    "import numpy as np\n",
    "from tensorflow.examples.tutorials.mnist import *\n",
    "import matplotlib.pyplot as plt\n",
    "mnist = input_data.read_data_sets(\"MNIST_data/\", one_hot=True)"
   ]
  },
  {
   "cell_type": "code",
   "execution_count": 53,
   "metadata": {
    "collapsed": true
   },
   "outputs": [],
   "source": [
    "# Hyperparameters\n",
    "\n",
    "batch = 32\n",
    "X_dim = 784\n",
    "Z_dim = 64\n",
    "h_dim = 128\n",
    "alpha = 0.001"
   ]
  },
  {
   "cell_type": "code",
   "execution_count": 54,
   "metadata": {
    "collapsed": true
   },
   "outputs": [],
   "source": [
    "# Function to initialise weight matrix of a given shape\n",
    "def weight_initialise(shape):\n",
    "    value = tf.truncated_normal(shape,stddev=0.1)\n",
    "    return tf.Variable(value)\n",
    "\n"
   ]
  },
  {
   "cell_type": "code",
   "execution_count": 55,
   "metadata": {},
   "outputs": [],
   "source": [
    "# Defining variables for the Discriminator net.\n",
    "\n",
    "X = tf.placeholder(tf.float32, shape = [None,X_dim])\n",
    "\n",
    "#Layer 1\n",
    "D_Weights1 = weight_initialise([X_dim,h_dim])\n",
    "D_Bias1 = tf.Variable(tf.zeros(shape=[h_dim]),name='D_B1')\n",
    "\n",
    "#Layer 2\n",
    "D_Weights2 = weight_initialise([h_dim,1])\n",
    "D_Bias2 = tf.Variable(tf.zeros(shape=[1]), name ='D_B2')\n",
    "\n",
    "\n",
    "theta_D = [D_Weights1, D_Weights2, D_Bias1, D_Bias2]"
   ]
  },
  {
   "cell_type": "code",
   "execution_count": 56,
   "metadata": {
    "collapsed": true
   },
   "outputs": [],
   "source": [
    "# Similarly, for the Generator...\n",
    "\n",
    "Z = tf.placeholder(tf.float32,shape=[None,Z_dim],name='Z')\n",
    "\n",
    "#Layer 1\n",
    "G_Weights1 = weight_initialise([Z_dim,h_dim])\n",
    "G_Bias1 = tf.Variable(tf.zeros(shape=[h_dim]),name='D_B1')\n",
    "\n",
    "#Layer 2\n",
    "G_Weights2 = weight_initialise([h_dim,X_dim])\n",
    "G_Bias2 = tf.Variable(tf.zeros(shape=[X_dim]), name ='D_B2')\n",
    "\n",
    "\n",
    "theta_G = [D_Weights1, D_Weights2, D_Bias1, D_Bias2]"
   ]
  },
  {
   "cell_type": "code",
   "execution_count": 57,
   "metadata": {
    "collapsed": true
   },
   "outputs": [],
   "source": [
    "# Defining the generator function\n",
    "\n",
    "def generator(z):\n",
    "    G_Activation1 = tf.nn.relu(tf.matmul(z,G_Weights1)+G_Bias1)\n",
    "    G_Activation2 = tf.matmul(G_Activation1,G_Weights2) + G_Bias2\n",
    "    generated = tf.nn.sigmoid(G_Activation2)\n",
    "    return generated\n",
    "\n",
    "\n",
    "# Defining the discriminator\n",
    "\n",
    "def discriminator(x):\n",
    "    D_Activation1 = tf.nn.relu(tf.matmul(x,D_Weights1)+D_Bias1)\n",
    "    D_Activation2 = tf.matmul(D_Activation1,D_Weights2) + D_Bias2\n",
    "    return D_Activation2\n",
    "    "
   ]
  },
  {
   "cell_type": "code",
   "execution_count": 58,
   "metadata": {
    "collapsed": true
   },
   "outputs": [],
   "source": [
    "# Function to create initial z samples that are fed to generator\n",
    "\n",
    "def sample_z(m,n):\n",
    "    return np.random.uniform(-1.,1., size=[m,n])"
   ]
  },
  {
   "cell_type": "code",
   "execution_count": 59,
   "metadata": {},
   "outputs": [],
   "source": [
    "G_sample = generator(Z)\n",
    "\n",
    "D_Real  = discriminator(X)\n",
    "\n",
    "D_Fake  = discriminator(G_sample)\n",
    "\n",
    "D_Target = 1./ batch\n",
    "\n",
    "G_Target = 1./ (batch*2)\n",
    "\n",
    "Z = tf.reduce_sum(tf.exp(-D_Real)) + tf.reduce_sum(tf.exp(-D_Fake))\n",
    "\n",
    "D_loss = tf.reduce_sum(D_Target * D_Real) + tf.log(Z + 0.000000001)\n",
    "G_loss = tf.reduce_sum(G_Target * D_Real) + tf.reduce_sum(G_Target * D_Fake) + tf.log(Z + 0.000000001)\n",
    "\n",
    "D_solver = (tf.train.AdamOptimizer(learning_rate=alpha)\n",
    "            .minimize(D_loss, var_list=theta_D))\n",
    "G_solver = (tf.train.AdamOptimizer(learning_rate=alpha)\n",
    "            .minimize(G_loss, var_list=theta_G))\n",
    "\n",
    "sess = tf.Session()\n",
    "sess.run(tf.global_variables_initializer())\n"
   ]
  },
  {
   "cell_type": "code",
   "execution_count": 60,
   "metadata": {},
   "outputs": [
    {
     "ename": "ValueError",
     "evalue": "Cannot feed value of shape (32, 64) for Tensor 'add_51:0', which has shape '()'",
     "output_type": "error",
     "traceback": [
      "\u001b[0;31m---------------------------------------------------------------------------\u001b[0m",
      "\u001b[0;31mValueError\u001b[0m                                Traceback (most recent call last)",
      "\u001b[0;32m<ipython-input-60-a51cbe8f2e29>\u001b[0m in \u001b[0;36m<module>\u001b[0;34m()\u001b[0m\n\u001b[1;32m      6\u001b[0m \u001b[0;34m\u001b[0m\u001b[0m\n\u001b[1;32m      7\u001b[0m     _, D_loss_curr = sess.run(\n\u001b[0;32m----> 8\u001b[0;31m         \u001b[0;34m[\u001b[0m\u001b[0mD_solver\u001b[0m\u001b[0;34m,\u001b[0m \u001b[0mD_loss\u001b[0m\u001b[0;34m]\u001b[0m\u001b[0;34m,\u001b[0m \u001b[0mfeed_dict\u001b[0m\u001b[0;34m=\u001b[0m\u001b[0;34m{\u001b[0m\u001b[0mX\u001b[0m\u001b[0;34m:\u001b[0m \u001b[0mX_mb\u001b[0m\u001b[0;34m,\u001b[0m \u001b[0mZ\u001b[0m\u001b[0;34m:\u001b[0m \u001b[0mz_mb\u001b[0m\u001b[0;34m}\u001b[0m\u001b[0;34m\u001b[0m\u001b[0m\n\u001b[0m\u001b[1;32m      9\u001b[0m     )\n\u001b[1;32m     10\u001b[0m \u001b[0;34m\u001b[0m\u001b[0m\n",
      "\u001b[0;32m~/anaconda3/lib/python3.6/site-packages/tensorflow/python/client/session.py\u001b[0m in \u001b[0;36mrun\u001b[0;34m(self, fetches, feed_dict, options, run_metadata)\u001b[0m\n\u001b[1;32m    893\u001b[0m     \u001b[0;32mtry\u001b[0m\u001b[0;34m:\u001b[0m\u001b[0;34m\u001b[0m\u001b[0m\n\u001b[1;32m    894\u001b[0m       result = self._run(None, fetches, feed_dict, options_ptr,\n\u001b[0;32m--> 895\u001b[0;31m                          run_metadata_ptr)\n\u001b[0m\u001b[1;32m    896\u001b[0m       \u001b[0;32mif\u001b[0m \u001b[0mrun_metadata\u001b[0m\u001b[0;34m:\u001b[0m\u001b[0;34m\u001b[0m\u001b[0m\n\u001b[1;32m    897\u001b[0m         \u001b[0mproto_data\u001b[0m \u001b[0;34m=\u001b[0m \u001b[0mtf_session\u001b[0m\u001b[0;34m.\u001b[0m\u001b[0mTF_GetBuffer\u001b[0m\u001b[0;34m(\u001b[0m\u001b[0mrun_metadata_ptr\u001b[0m\u001b[0;34m)\u001b[0m\u001b[0;34m\u001b[0m\u001b[0m\n",
      "\u001b[0;32m~/anaconda3/lib/python3.6/site-packages/tensorflow/python/client/session.py\u001b[0m in \u001b[0;36m_run\u001b[0;34m(self, handle, fetches, feed_dict, options, run_metadata)\u001b[0m\n\u001b[1;32m   1098\u001b[0m                 \u001b[0;34m'Cannot feed value of shape %r for Tensor %r, '\u001b[0m\u001b[0;34m\u001b[0m\u001b[0m\n\u001b[1;32m   1099\u001b[0m                 \u001b[0;34m'which has shape %r'\u001b[0m\u001b[0;34m\u001b[0m\u001b[0m\n\u001b[0;32m-> 1100\u001b[0;31m                 % (np_val.shape, subfeed_t.name, str(subfeed_t.get_shape())))\n\u001b[0m\u001b[1;32m   1101\u001b[0m           \u001b[0;32mif\u001b[0m \u001b[0;32mnot\u001b[0m \u001b[0mself\u001b[0m\u001b[0;34m.\u001b[0m\u001b[0mgraph\u001b[0m\u001b[0;34m.\u001b[0m\u001b[0mis_feedable\u001b[0m\u001b[0;34m(\u001b[0m\u001b[0msubfeed_t\u001b[0m\u001b[0;34m)\u001b[0m\u001b[0;34m:\u001b[0m\u001b[0;34m\u001b[0m\u001b[0m\n\u001b[1;32m   1102\u001b[0m             \u001b[0;32mraise\u001b[0m \u001b[0mValueError\u001b[0m\u001b[0;34m(\u001b[0m\u001b[0;34m'Tensor %s may not be fed.'\u001b[0m \u001b[0;34m%\u001b[0m \u001b[0msubfeed_t\u001b[0m\u001b[0;34m)\u001b[0m\u001b[0;34m\u001b[0m\u001b[0m\n",
      "\u001b[0;31mValueError\u001b[0m: Cannot feed value of shape (32, 64) for Tensor 'add_51:0', which has shape '()'"
     ]
    }
   ],
   "source": [
    "# Training\n",
    "\n",
    "for it in range(10000):\n",
    "    X_mb, _ = mnist.train.next_batch(batch)\n",
    "    z_mb = sample_z(batch, Z_dim)\n",
    "\n",
    "    _, D_loss_curr = sess.run(\n",
    "        [D_solver, D_loss], feed_dict={X: X_mb, Z: z_mb}\n",
    "    )\n",
    "\n",
    "    _, G_loss_curr = sess.run(\n",
    "        [G_solver, G_loss], feed_dict={X: X_mb, Z: z_mb}\n",
    "    )\n",
    "\n",
    "    if it % 1000 == 0:\n",
    "        print('Iter: {}; D_loss: {:.4}; G_loss: {:.4}'\n",
    "              .format(it, D_loss_curr, G_loss_curr))\n",
    "\n",
    "        samples = sess.run(G_sample, feed_dict={Z: sample_z(16, z_dim)})\n",
    "\n",
    "        fig = plot(samples)\n",
    "        plt.savefig('out/{}.png'\n",
    "                    .format(str(i).zfill(3)), bbox_inches='tight')\n",
    "        i += 1\n",
    "plt.close(fig)"
   ]
  },
  {
   "cell_type": "code",
   "execution_count": null,
   "metadata": {
    "collapsed": true
   },
   "outputs": [],
   "source": []
  },
  {
   "cell_type": "code",
   "execution_count": null,
   "metadata": {
    "collapsed": true
   },
   "outputs": [],
   "source": []
  }
 ],
 "metadata": {
  "kernelspec": {
   "display_name": "Python 3",
   "language": "python",
   "name": "python3"
  },
  "language_info": {
   "codemirror_mode": {
    "name": "ipython",
    "version": 3
   },
   "file_extension": ".py",
   "mimetype": "text/x-python",
   "name": "python",
   "nbconvert_exporter": "python",
   "pygments_lexer": "ipython3",
   "version": "3.6.3"
  }
 },
 "nbformat": 4,
 "nbformat_minor": 2
}
