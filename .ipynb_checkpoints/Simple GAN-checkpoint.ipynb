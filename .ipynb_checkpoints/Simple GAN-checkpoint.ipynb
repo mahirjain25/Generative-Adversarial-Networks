{
 "cells": [
  {
   "cell_type": "markdown",
   "metadata": {},
   "source": [
    "# Implementation of a simple GAN using a 2 layered neural net."
   ]
  },
  {
   "cell_type": "code",
   "execution_count": 10,
   "metadata": {},
   "outputs": [
    {
     "name": "stdout",
     "output_type": "stream",
     "text": [
      "Extracting MNIST_data/train-images-idx3-ubyte.gz\n",
      "Extracting MNIST_data/train-labels-idx1-ubyte.gz\n",
      "Extracting MNIST_data/t10k-images-idx3-ubyte.gz\n",
      "Extracting MNIST_data/t10k-labels-idx1-ubyte.gz\n"
     ]
    }
   ],
   "source": [
    "# Importing TensorFlow\n",
    "\n",
    "import tensorflow as tf\n",
    "import numpy as np\n",
    "from tensorflow.examples.tutorials.mnist import *\n",
    "import matplotlib.pyplot as plt\n",
    "import matplotlib.gridspec as gridspec\n",
    "import os\n",
    "mnist = input_data.read_data_sets(\"MNIST_data/\", one_hot=True)"
   ]
  },
  {
   "cell_type": "code",
   "execution_count": 11,
   "metadata": {
    "collapsed": true
   },
   "outputs": [],
   "source": [
    "# Hyperparameters\n",
    "\n",
    "batch = 32\n",
    "X_dim = 784\n",
    "Z_dim = 64\n",
    "h_dim = 128\n",
    "alpha = 0.001"
   ]
  },
  {
   "cell_type": "code",
   "execution_count": 12,
   "metadata": {},
   "outputs": [],
   "source": [
    "def plot(samples):\n",
    "    fig = plt.figure(figsize=(4,4))\n",
    "    gs = gridspec.GridSpec(4, 4)\n",
    "    gs.update(wspace=0.05, hspace=0.05)\n",
    "    for i, sample in enumerate(samples):\n",
    "        ax = plt.subplot(gs[i])\n",
    "        plt.axis('off')\n",
    "        ax.set_xticklabels([])\n",
    "        ax.set_yticklabels([])\n",
    "        ax.set_aspect('equal')\n",
    "        plt.imshow(sample.reshape(28, 28), cmap='Greys_r')\n",
    "\n",
    "    return fig\n",
    "    "
   ]
  },
  {
   "cell_type": "code",
   "execution_count": 17,
   "metadata": {
    "collapsed": true
   },
   "outputs": [],
   "source": [
    "# Function to initialise weight matrix of a given shape\n",
    "#def weight_initialise(shape):\n",
    "#    value = tf.truncated_normal(shape,stddev=0.1)\n",
    "#    return tf.Variable(value)\n",
    "\n",
    "# Setting up the Xavier Initialisation Function for the weights\n",
    "\n",
    "def xavier_init(size):\n",
    "    in_dim = size[0]\n",
    "    xavier_stddev = 1. / tf.sqrt(in_dim / 2.)\n",
    "    return tf.random_normal(shape=size,stddev=xavier_stddev)"
   ]
  },
  {
   "cell_type": "code",
   "execution_count": 18,
   "metadata": {},
   "outputs": [],
   "source": [
    "# Defining variables for the Discriminator net.\n",
    "\n",
    "X = tf.placeholder(tf.float32, shape = [None,X_dim])\n",
    "\n",
    "#Layer 1\n",
    "D_Weights1 = tf.Variable(xavier_init([X_dim,h_dim]))\n",
    "D_Bias1 = tf.Variable(tf.zeros(shape=[h_dim]))\n",
    "\n",
    "#Layer 2\n",
    "D_Weights2 = tf.Variable(xavier_init([h_dim,1]))\n",
    "D_Bias2 = tf.Variable(tf.zeros(shape=[1]))\n",
    "\n",
    "\n",
    "theta_D = [D_Weights1, D_Weights2, D_Bias1, D_Bias2]"
   ]
  },
  {
   "cell_type": "code",
   "execution_count": 19,
   "metadata": {
    "collapsed": true
   },
   "outputs": [],
   "source": [
    "# Similarly, for the Generator...\n",
    "\n",
    "z = tf.placeholder(tf.float32,shape=[None,Z_dim])\n",
    "\n",
    "#Layer 1\n",
    "G_Weights1 = tf.Variable(xavier_init([Z_dim,h_dim]))\n",
    "G_Bias1 = tf.Variable(tf.zeros(shape=[h_dim]))\n",
    "\n",
    "#Layer 2\n",
    "G_Weights2 = tf.Variable(xavier_init([h_dim,X_dim]))\n",
    "G_Bias2 = tf.Variable(tf.zeros(shape=[X_dim]))\n",
    "\n",
    "\n",
    "theta_G = [G_Weights1, G_Weights2, G_Bias1, G_Bias2]"
   ]
  },
  {
   "cell_type": "code",
   "execution_count": 20,
   "metadata": {
    "collapsed": true
   },
   "outputs": [],
   "source": [
    "# Defining the generator function\n",
    "\n",
    "def generator(z):\n",
    "    G_Activation1 = tf.nn.relu(tf.matmul(z,G_Weights1)+G_Bias1)\n",
    "    G_Activation2 = tf.matmul(G_Activation1,G_Weights2) + G_Bias2\n",
    "    generated = tf.nn.sigmoid(G_Activation2)\n",
    "    return generated\n",
    "\n",
    "\n",
    "# Defining the discriminator\n",
    "\n",
    "def discriminator(x):\n",
    "    D_Activation1 = tf.nn.relu(tf.matmul(x,D_Weights1)+D_Bias1)\n",
    "    D_Activation2 = tf.matmul(D_Activation1,D_Weights2) + D_Bias2\n",
    "    return D_Activation2\n",
    "    "
   ]
  },
  {
   "cell_type": "code",
   "execution_count": 21,
   "metadata": {
    "collapsed": true
   },
   "outputs": [],
   "source": [
    "# Function to create initial z samples that are fed to generator\n",
    "\n",
    "def sample_z(m,n):\n",
    "    return np.random.uniform(-1., 1., size=[m, n])"
   ]
  },
  {
   "cell_type": "code",
   "execution_count": 22,
   "metadata": {},
   "outputs": [],
   "source": [
    "G_sample = generator(z)\n",
    "\n",
    "D_Real  = discriminator(X)\n",
    "\n",
    "D_Fake  = discriminator(G_sample)\n",
    "\n",
    "D_Target = 1./ batch\n",
    "\n",
    "G_Target = 1./ (batch*2)\n",
    "\n",
    "Z = tf.reduce_sum(tf.exp(-D_Real)) + tf.reduce_sum(tf.exp(-D_Fake))\n",
    "\n",
    "D_loss = tf.reduce_sum(D_Target * D_Real) + tf.log(Z + 1e-8)\n",
    "G_loss = tf.reduce_sum(G_Target * D_Real) + tf.reduce_sum(G_Target * D_Fake) + tf.log(Z + 1e-8)\n",
    "\n",
    "\n",
    "\n",
    "D_solver = (tf.train.AdamOptimizer(learning_rate=alpha)\n",
    "            .minimize(D_loss, var_list=theta_D))\n",
    "G_solver = (tf.train.AdamOptimizer(learning_rate=alpha)\n",
    "            .minimize(G_loss, var_list=theta_G))\n",
    "\n",
    "sess = tf.Session()\n",
    "sess.run(tf.global_variables_initializer())\n"
   ]
  },
  {
   "cell_type": "code",
   "execution_count": 23,
   "metadata": {},
   "outputs": [
    {
     "name": "stdout",
     "output_type": "stream",
     "text": [
      "Iter: 0; D_loss: 4.625; G_loss: 4.432\n",
      "Iter: 1000; D_loss: 3.537; G_loss: 5.519\n",
      "Iter: 2000; D_loss: 3.658; G_loss: 4.766\n",
      "Iter: 3000; D_loss: 3.7; G_loss: 4.972\n",
      "Iter: 4000; D_loss: 3.764; G_loss: 4.78\n",
      "Iter: 5000; D_loss: 3.715; G_loss: 4.73\n",
      "Iter: 6000; D_loss: 3.744; G_loss: 4.532\n",
      "Iter: 7000; D_loss: 3.765; G_loss: 4.594\n",
      "Iter: 8000; D_loss: 3.712; G_loss: 4.562\n",
      "Iter: 9000; D_loss: 3.808; G_loss: 4.571\n",
      "Iter: 10000; D_loss: 3.7; G_loss: 4.711\n",
      "Iter: 11000; D_loss: 3.866; G_loss: 4.542\n",
      "Iter: 12000; D_loss: 3.839; G_loss: 4.644\n",
      "Iter: 13000; D_loss: 3.859; G_loss: 4.524\n",
      "Iter: 14000; D_loss: 3.838; G_loss: 4.628\n",
      "Iter: 15000; D_loss: 3.811; G_loss: 4.511\n",
      "Iter: 16000; D_loss: 3.845; G_loss: 4.458\n",
      "Iter: 17000; D_loss: 3.834; G_loss: 4.553\n",
      "Iter: 18000; D_loss: 3.832; G_loss: 4.601\n",
      "Iter: 19000; D_loss: 3.845; G_loss: 4.554\n",
      "Iter: 20000; D_loss: 3.941; G_loss: 4.519\n",
      "Iter: 21000; D_loss: 3.762; G_loss: 4.469\n",
      "Iter: 22000; D_loss: 3.773; G_loss: 4.532\n",
      "Iter: 23000; D_loss: 3.841; G_loss: 4.492\n",
      "Iter: 24000; D_loss: 3.82; G_loss: 4.537\n",
      "Iter: 25000; D_loss: 3.834; G_loss: 4.483\n",
      "Iter: 26000; D_loss: 3.8; G_loss: 4.58\n",
      "Iter: 27000; D_loss: 3.834; G_loss: 4.512\n",
      "Iter: 28000; D_loss: 3.843; G_loss: 4.521\n",
      "Iter: 29000; D_loss: 3.832; G_loss: 4.46\n",
      "Iter: 30000; D_loss: 3.787; G_loss: 4.549\n",
      "Iter: 31000; D_loss: 3.814; G_loss: 4.477\n",
      "Iter: 32000; D_loss: 3.813; G_loss: 4.511\n",
      "Iter: 33000; D_loss: 3.862; G_loss: 4.564\n",
      "Iter: 34000; D_loss: 3.854; G_loss: 4.487\n",
      "Iter: 35000; D_loss: 3.931; G_loss: 4.557\n",
      "Iter: 36000; D_loss: 3.867; G_loss: 4.492\n",
      "Iter: 37000; D_loss: 3.847; G_loss: 4.533\n",
      "Iter: 38000; D_loss: 3.887; G_loss: 4.585\n",
      "Iter: 39000; D_loss: 3.879; G_loss: 4.467\n",
      "Iter: 40000; D_loss: 3.825; G_loss: 4.637\n",
      "Iter: 41000; D_loss: 3.768; G_loss: 4.53\n",
      "Iter: 42000; D_loss: 3.726; G_loss: 4.56\n",
      "Iter: 43000; D_loss: 3.968; G_loss: 4.636\n",
      "Iter: 44000; D_loss: 3.745; G_loss: 4.522\n",
      "Iter: 45000; D_loss: 3.757; G_loss: 4.631\n",
      "Iter: 46000; D_loss: 3.846; G_loss: 4.621\n",
      "Iter: 47000; D_loss: 3.852; G_loss: 4.498\n",
      "Iter: 48000; D_loss: 3.951; G_loss: 4.472\n",
      "Iter: 49000; D_loss: 3.832; G_loss: 4.62\n",
      "Iter: 50000; D_loss: 3.787; G_loss: 4.524\n",
      "Iter: 51000; D_loss: 3.819; G_loss: 4.56\n",
      "Iter: 52000; D_loss: 3.849; G_loss: 4.543\n",
      "Iter: 53000; D_loss: 3.904; G_loss: 4.511\n",
      "Iter: 54000; D_loss: 3.88; G_loss: 4.574\n",
      "Iter: 55000; D_loss: 3.88; G_loss: 4.491\n"
     ]
    },
    {
     "ename": "KeyboardInterrupt",
     "evalue": "",
     "output_type": "error",
     "traceback": [
      "\u001b[0;31m---------------------------------------------------------------------------\u001b[0m",
      "\u001b[0;31mKeyboardInterrupt\u001b[0m                         Traceback (most recent call last)",
      "\u001b[0;32m<ipython-input-23-d77de995cce3>\u001b[0m in \u001b[0;36m<module>\u001b[0;34m()\u001b[0m\n\u001b[1;32m      8\u001b[0m \u001b[0;34m\u001b[0m\u001b[0m\n\u001b[1;32m      9\u001b[0m     _, D_loss_curr = sess.run(\n\u001b[0;32m---> 10\u001b[0;31m         \u001b[0;34m[\u001b[0m\u001b[0mD_solver\u001b[0m\u001b[0;34m,\u001b[0m \u001b[0mD_loss\u001b[0m\u001b[0;34m]\u001b[0m\u001b[0;34m,\u001b[0m \u001b[0mfeed_dict\u001b[0m\u001b[0;34m=\u001b[0m\u001b[0;34m{\u001b[0m\u001b[0mX\u001b[0m\u001b[0;34m:\u001b[0m \u001b[0mX_mb\u001b[0m\u001b[0;34m,\u001b[0m \u001b[0mz\u001b[0m\u001b[0;34m:\u001b[0m \u001b[0mz_mb\u001b[0m\u001b[0;34m}\u001b[0m\u001b[0;34m\u001b[0m\u001b[0m\n\u001b[0m\u001b[1;32m     11\u001b[0m     )\n\u001b[1;32m     12\u001b[0m \u001b[0;34m\u001b[0m\u001b[0m\n",
      "\u001b[0;32m~/anaconda3/lib/python3.6/site-packages/tensorflow/python/client/session.py\u001b[0m in \u001b[0;36mrun\u001b[0;34m(self, fetches, feed_dict, options, run_metadata)\u001b[0m\n\u001b[1;32m    893\u001b[0m     \u001b[0;32mtry\u001b[0m\u001b[0;34m:\u001b[0m\u001b[0;34m\u001b[0m\u001b[0m\n\u001b[1;32m    894\u001b[0m       result = self._run(None, fetches, feed_dict, options_ptr,\n\u001b[0;32m--> 895\u001b[0;31m                          run_metadata_ptr)\n\u001b[0m\u001b[1;32m    896\u001b[0m       \u001b[0;32mif\u001b[0m \u001b[0mrun_metadata\u001b[0m\u001b[0;34m:\u001b[0m\u001b[0;34m\u001b[0m\u001b[0m\n\u001b[1;32m    897\u001b[0m         \u001b[0mproto_data\u001b[0m \u001b[0;34m=\u001b[0m \u001b[0mtf_session\u001b[0m\u001b[0;34m.\u001b[0m\u001b[0mTF_GetBuffer\u001b[0m\u001b[0;34m(\u001b[0m\u001b[0mrun_metadata_ptr\u001b[0m\u001b[0;34m)\u001b[0m\u001b[0;34m\u001b[0m\u001b[0m\n",
      "\u001b[0;32m~/anaconda3/lib/python3.6/site-packages/tensorflow/python/client/session.py\u001b[0m in \u001b[0;36m_run\u001b[0;34m(self, handle, fetches, feed_dict, options, run_metadata)\u001b[0m\n\u001b[1;32m   1122\u001b[0m     \u001b[0;32mif\u001b[0m \u001b[0mfinal_fetches\u001b[0m \u001b[0;32mor\u001b[0m \u001b[0mfinal_targets\u001b[0m \u001b[0;32mor\u001b[0m \u001b[0;34m(\u001b[0m\u001b[0mhandle\u001b[0m \u001b[0;32mand\u001b[0m \u001b[0mfeed_dict_tensor\u001b[0m\u001b[0;34m)\u001b[0m\u001b[0;34m:\u001b[0m\u001b[0;34m\u001b[0m\u001b[0m\n\u001b[1;32m   1123\u001b[0m       results = self._do_run(handle, final_targets, final_fetches,\n\u001b[0;32m-> 1124\u001b[0;31m                              feed_dict_tensor, options, run_metadata)\n\u001b[0m\u001b[1;32m   1125\u001b[0m     \u001b[0;32melse\u001b[0m\u001b[0;34m:\u001b[0m\u001b[0;34m\u001b[0m\u001b[0m\n\u001b[1;32m   1126\u001b[0m       \u001b[0mresults\u001b[0m \u001b[0;34m=\u001b[0m \u001b[0;34m[\u001b[0m\u001b[0;34m]\u001b[0m\u001b[0;34m\u001b[0m\u001b[0m\n",
      "\u001b[0;32m~/anaconda3/lib/python3.6/site-packages/tensorflow/python/client/session.py\u001b[0m in \u001b[0;36m_do_run\u001b[0;34m(self, handle, target_list, fetch_list, feed_dict, options, run_metadata)\u001b[0m\n\u001b[1;32m   1319\u001b[0m     \u001b[0;32mif\u001b[0m \u001b[0mhandle\u001b[0m \u001b[0;32mis\u001b[0m \u001b[0;32mNone\u001b[0m\u001b[0;34m:\u001b[0m\u001b[0;34m\u001b[0m\u001b[0m\n\u001b[1;32m   1320\u001b[0m       return self._do_call(_run_fn, self._session, feeds, fetches, targets,\n\u001b[0;32m-> 1321\u001b[0;31m                            options, run_metadata)\n\u001b[0m\u001b[1;32m   1322\u001b[0m     \u001b[0;32melse\u001b[0m\u001b[0;34m:\u001b[0m\u001b[0;34m\u001b[0m\u001b[0m\n\u001b[1;32m   1323\u001b[0m       \u001b[0;32mreturn\u001b[0m \u001b[0mself\u001b[0m\u001b[0;34m.\u001b[0m\u001b[0m_do_call\u001b[0m\u001b[0;34m(\u001b[0m\u001b[0m_prun_fn\u001b[0m\u001b[0;34m,\u001b[0m \u001b[0mself\u001b[0m\u001b[0;34m.\u001b[0m\u001b[0m_session\u001b[0m\u001b[0;34m,\u001b[0m \u001b[0mhandle\u001b[0m\u001b[0;34m,\u001b[0m \u001b[0mfeeds\u001b[0m\u001b[0;34m,\u001b[0m \u001b[0mfetches\u001b[0m\u001b[0;34m)\u001b[0m\u001b[0;34m\u001b[0m\u001b[0m\n",
      "\u001b[0;32m~/anaconda3/lib/python3.6/site-packages/tensorflow/python/client/session.py\u001b[0m in \u001b[0;36m_do_call\u001b[0;34m(self, fn, *args)\u001b[0m\n\u001b[1;32m   1325\u001b[0m   \u001b[0;32mdef\u001b[0m \u001b[0m_do_call\u001b[0m\u001b[0;34m(\u001b[0m\u001b[0mself\u001b[0m\u001b[0;34m,\u001b[0m \u001b[0mfn\u001b[0m\u001b[0;34m,\u001b[0m \u001b[0;34m*\u001b[0m\u001b[0margs\u001b[0m\u001b[0;34m)\u001b[0m\u001b[0;34m:\u001b[0m\u001b[0;34m\u001b[0m\u001b[0m\n\u001b[1;32m   1326\u001b[0m     \u001b[0;32mtry\u001b[0m\u001b[0;34m:\u001b[0m\u001b[0;34m\u001b[0m\u001b[0m\n\u001b[0;32m-> 1327\u001b[0;31m       \u001b[0;32mreturn\u001b[0m \u001b[0mfn\u001b[0m\u001b[0;34m(\u001b[0m\u001b[0;34m*\u001b[0m\u001b[0margs\u001b[0m\u001b[0;34m)\u001b[0m\u001b[0;34m\u001b[0m\u001b[0m\n\u001b[0m\u001b[1;32m   1328\u001b[0m     \u001b[0;32mexcept\u001b[0m \u001b[0merrors\u001b[0m\u001b[0;34m.\u001b[0m\u001b[0mOpError\u001b[0m \u001b[0;32mas\u001b[0m \u001b[0me\u001b[0m\u001b[0;34m:\u001b[0m\u001b[0;34m\u001b[0m\u001b[0m\n\u001b[1;32m   1329\u001b[0m       \u001b[0mmessage\u001b[0m \u001b[0;34m=\u001b[0m \u001b[0mcompat\u001b[0m\u001b[0;34m.\u001b[0m\u001b[0mas_text\u001b[0m\u001b[0;34m(\u001b[0m\u001b[0me\u001b[0m\u001b[0;34m.\u001b[0m\u001b[0mmessage\u001b[0m\u001b[0;34m)\u001b[0m\u001b[0;34m\u001b[0m\u001b[0m\n",
      "\u001b[0;32m~/anaconda3/lib/python3.6/site-packages/tensorflow/python/client/session.py\u001b[0m in \u001b[0;36m_run_fn\u001b[0;34m(session, feed_dict, fetch_list, target_list, options, run_metadata)\u001b[0m\n\u001b[1;32m   1304\u001b[0m           return tf_session.TF_Run(session, options,\n\u001b[1;32m   1305\u001b[0m                                    \u001b[0mfeed_dict\u001b[0m\u001b[0;34m,\u001b[0m \u001b[0mfetch_list\u001b[0m\u001b[0;34m,\u001b[0m \u001b[0mtarget_list\u001b[0m\u001b[0;34m,\u001b[0m\u001b[0;34m\u001b[0m\u001b[0m\n\u001b[0;32m-> 1306\u001b[0;31m                                    status, run_metadata)\n\u001b[0m\u001b[1;32m   1307\u001b[0m \u001b[0;34m\u001b[0m\u001b[0m\n\u001b[1;32m   1308\u001b[0m     \u001b[0;32mdef\u001b[0m \u001b[0m_prun_fn\u001b[0m\u001b[0;34m(\u001b[0m\u001b[0msession\u001b[0m\u001b[0;34m,\u001b[0m \u001b[0mhandle\u001b[0m\u001b[0;34m,\u001b[0m \u001b[0mfeed_dict\u001b[0m\u001b[0;34m,\u001b[0m \u001b[0mfetch_list\u001b[0m\u001b[0;34m)\u001b[0m\u001b[0;34m:\u001b[0m\u001b[0;34m\u001b[0m\u001b[0m\n",
      "\u001b[0;31mKeyboardInterrupt\u001b[0m: "
     ]
    }
   ],
   "source": [
    "# Training\n",
    "if not os.path.exists('Simple_GAN_Images/'):\n",
    "    os.makedirs('Simple_GAN_Images/')\n",
    "i = 0\n",
    "for it in range(1000000):\n",
    "    X_mb, _ = mnist.train.next_batch(batch)\n",
    "    z_mb = sample_z(batch, Z_dim)\n",
    "\n",
    "    _, D_loss_curr = sess.run(\n",
    "        [D_solver, D_loss], feed_dict={X: X_mb, z: z_mb}\n",
    "    )\n",
    "\n",
    "    _, G_loss_curr = sess.run(\n",
    "        [G_solver, G_loss], feed_dict={X: X_mb, z: z_mb}\n",
    "    )\n",
    "\n",
    "    if it % 1000 == 0:\n",
    "        print('Iter: {}; D_loss: {:.4}; G_loss: {:.4}'\n",
    "              .format(it, D_loss_curr, G_loss_curr))\n",
    "    if it % 100000 == 0:\n",
    "        samples = sess.run(G_sample,feed_dict={z: sample_z(16, Z_dim)})\n",
    "        \n",
    "        fig = plot(samples)\n",
    "        plt.savefig('out/{}.png'.format(str(i).zfill(3)),bbox_inches='tight')\n",
    "        i+=1\n",
    "        plt.close(fig)"
   ]
  }
 ],
 "metadata": {
  "kernelspec": {
   "display_name": "Python 3",
   "language": "python",
   "name": "python3"
  },
  "language_info": {
   "codemirror_mode": {
    "name": "ipython",
    "version": 3
   },
   "file_extension": ".py",
   "mimetype": "text/x-python",
   "name": "python",
   "nbconvert_exporter": "python",
   "pygments_lexer": "ipython3",
   "version": "3.6.3"
  }
 },
 "nbformat": 4,
 "nbformat_minor": 2
}
